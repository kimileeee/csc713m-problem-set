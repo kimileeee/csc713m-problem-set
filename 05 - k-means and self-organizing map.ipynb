{
 "cells": [
  {
   "cell_type": "code",
   "execution_count": null,
   "metadata": {},
   "outputs": [],
   "source": [
    "import pandas as pd\n",
    "from sklearn.model_selection import train_test_split, cross_val_score, cross_val_predict\n",
    "from sklearn.preprocessing import LabelEncoder\n",
    "from sklearn.linear_model import LogisticRegression\n",
    "from sklearn.neighbors import KNeighborsClassifier\n",
    "from sklearn.neural_network import MLPClassifier\n",
    "from sklearn.metrics import accuracy_score, precision_score, recall_score, f1_score, confusion_matrix\n",
    "from sklearn.cluster import KMeans\n",
    "from sklearn.metrics import davies_bouldin_score\n",
    "from minisom import MiniSom"
   ]
  },
  {
   "cell_type": "code",
   "execution_count": null,
   "metadata": {},
   "outputs": [],
   "source": [
    "# Load the dataset\n",
    "data = pd.read_csv('animal_dataset.csv')\n",
    "data.head()"
   ]
  },
  {
   "cell_type": "code",
   "execution_count": null,
   "metadata": {},
   "outputs": [],
   "source": [
    "# Split into features and target variable\n",
    "features = data.drop(['Class', 'Name'], axis=1)\n",
    "target = data['Class']"
   ]
  },
  {
   "cell_type": "code",
   "execution_count": null,
   "metadata": {},
   "outputs": [],
   "source": [
    "# Convert categorical labels into numerical values\n",
    "label_enc = LabelEncoder()\n",
    "target = label_enc.fit_transform(target)"
   ]
  },
  {
   "cell_type": "code",
   "execution_count": null,
   "metadata": {},
   "outputs": [],
   "source": [
    "# Self-Organizing Map\n",
    "som = MiniSom(10, 10, features.shape[1], sigma=0.3, learning_rate=0.5)\n",
    "som.train_random(features.to_numpy(), 100)\n",
    "\n",
    "# Prepare 2 labelled SOM maps\n",
    "# 1) Labelled based on the name of the nearest sample\n",
    "nearest_labels = som.labels_map(features.to_numpy(), label_enc.inverse_transform(target))\n",
    "print(\"Labelled based on the name of the nearest sample:\")\n",
    "print(nearest_labels)\n",
    "\n",
    "# 2) Labelled based on the majority class\n",
    "majority_labels = som.labels_map(features.to_numpy(), target)\n",
    "print(\"\\nLabelled based on the majority class:\")\n",
    "print(majority_labels)"
   ]
  },
  {
   "cell_type": "code",
   "execution_count": null,
   "metadata": {},
   "outputs": [],
   "source": []
  },
  {
   "cell_type": "code",
   "execution_count": null,
   "metadata": {},
   "outputs": [],
   "source": []
  }
 ],
 "metadata": {
  "kernelspec": {
   "display_name": "csc713m",
   "language": "python",
   "name": "python3"
  },
  "language_info": {
   "codemirror_mode": {
    "name": "ipython",
    "version": 3
   },
   "file_extension": ".py",
   "mimetype": "text/x-python",
   "name": "python",
   "nbconvert_exporter": "python",
   "pygments_lexer": "ipython3",
   "version": "3.8.18"
  }
 },
 "nbformat": 4,
 "nbformat_minor": 2
}
