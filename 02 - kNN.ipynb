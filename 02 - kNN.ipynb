{
 "cells": [
  {
   "cell_type": "code",
   "execution_count": null,
   "metadata": {},
   "outputs": [],
   "source": [
    "import pandas as pd\n",
    "from sklearn.model_selection import train_test_split, cross_val_score, cross_val_predict\n",
    "from sklearn.preprocessing import LabelEncoder\n",
    "from sklearn.linear_model import LogisticRegression\n",
    "from sklearn.neighbors import KNeighborsClassifier\n",
    "from sklearn.neural_network import MLPClassifier\n",
    "from sklearn.metrics import accuracy_score, precision_score, recall_score, f1_score, confusion_matrix\n",
    "from sklearn.cluster import KMeans\n",
    "from sklearn.metrics import davies_bouldin_score\n",
    "from minisom import MiniSom"
   ]
  },
  {
   "cell_type": "code",
   "execution_count": null,
   "metadata": {},
   "outputs": [],
   "source": [
    "# Load the dataset\n",
    "data = pd.read_csv('animal_dataset.csv')\n",
    "data.head()"
   ]
  },
  {
   "cell_type": "code",
   "execution_count": null,
   "metadata": {},
   "outputs": [],
   "source": [
    "# Split into features and target variable\n",
    "features = data.drop(['Class', 'Name'], axis=1)\n",
    "target = data['Class']"
   ]
  },
  {
   "cell_type": "code",
   "execution_count": null,
   "metadata": {},
   "outputs": [],
   "source": [
    "# Convert categorical labels into numerical values\n",
    "label_enc = LabelEncoder()\n",
    "target = label_enc.fit_transform(target)"
   ]
  },
  {
   "cell_type": "code",
   "execution_count": null,
   "metadata": {},
   "outputs": [],
   "source": [
    "# k Nearest Neighbors at k=1\n",
    "kNN_1 = KNeighborsClassifier(n_neighbors=1)\n",
    "kNN_1_predictions = cross_val_predict(kNN_1, features, target, cv=5)\n",
    "conf_matrix = confusion_matrix(target, kNN_1_predictions)\n",
    "accuracy = accuracy_score(target, kNN_1_predictions)\n",
    "precision = precision_score(target, kNN_1_predictions, average='macro')\n",
    "recall = recall_score(target, kNN_1_predictions, average='macro')\n",
    "f_measure = f1_score(target, kNN_1_predictions, average='macro')\n",
    "\n",
    "print(\"k Nearest Neighbors at k=1:\")\n",
    "print(\"Confusion Matrix:\\n\", conf_matrix)\n",
    "print(\"Accuracy:\", accuracy)\n",
    "print(\"Precision:\", precision)\n",
    "print(\"Recall:\", recall)\n",
    "print(\"F-measure:\", f_measure)"
   ]
  },
  {
   "cell_type": "code",
   "execution_count": null,
   "metadata": {},
   "outputs": [],
   "source": [
    "# k Nearest Neighbors at k=5\n",
    "kNN_5 = KNeighborsClassifier(n_neighbors=5)\n",
    "kNN_5_predictions = cross_val_predict(kNN_5, features, target, cv=5)\n",
    "conf_matrix = confusion_matrix(target, kNN_5_predictions)\n",
    "accuracy = accuracy_score(target, kNN_5_predictions)\n",
    "precision = precision_score(target, kNN_5_predictions, average='macro')\n",
    "recall = recall_score(target, kNN_5_predictions, average='macro')\n",
    "f_measure = f1_score(target, kNN_5_predictions, average='macro')\n",
    "\n",
    "print(\"k Nearest Neighbors at k=5:\")\n",
    "print(\"Confusion Matrix:\\n\", conf_matrix)\n",
    "print(\"Accuracy:\", accuracy)\n",
    "print(\"Precision:\", precision)\n",
    "print(\"Recall:\", recall)\n",
    "print(\"F-measure:\", f_measure)"
   ]
  },
  {
   "cell_type": "code",
   "execution_count": null,
   "metadata": {},
   "outputs": [],
   "source": [
    "# k Nearest Neighbors at k=9\n",
    "kNN_9 = KNeighborsClassifier(n_neighbors=9)\n",
    "kNN_9_predictions = cross_val_predict(kNN_9, features, target, cv=5)\n",
    "conf_matrix = confusion_matrix(target, kNN_9_predictions)\n",
    "accuracy = accuracy_score(target, kNN_9_predictions)\n",
    "precision = precision_score(target, kNN_9_predictions, average='macro')\n",
    "recall = recall_score(target, kNN_9_predictions, average='macro')\n",
    "f_measure = f1_score(target, kNN_9_predictions, average='macro')\n",
    "\n",
    "print(\"k Nearest Neighbors at k=9:\")\n",
    "print(\"Confusion Matrix:\\n\", conf_matrix)\n",
    "print(\"Accuracy:\", accuracy)\n",
    "print(\"Precision:\", precision)\n",
    "print(\"Recall:\", recall)\n",
    "print(\"F-measure:\", f_measure)"
   ]
  }
 ],
 "metadata": {
  "kernelspec": {
   "display_name": "csc713m",
   "language": "python",
   "name": "python3"
  },
  "language_info": {
   "codemirror_mode": {
    "name": "ipython",
    "version": 3
   },
   "file_extension": ".py",
   "mimetype": "text/x-python",
   "name": "python",
   "nbconvert_exporter": "python",
   "pygments_lexer": "ipython3",
   "version": "3.8.18"
  }
 },
 "nbformat": 4,
 "nbformat_minor": 2
}
